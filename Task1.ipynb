{
 "cells": [
  {
   "cell_type": "markdown",
   "id": "1f5ef61e",
   "metadata": {},
   "source": [
    "### 1.You have a floor that is 92 meter long and 48.8 wide. Find out total area using python and print it."
   ]
  },
  {
   "cell_type": "code",
   "execution_count": 1,
   "id": "ac798458",
   "metadata": {},
   "outputs": [
    {
     "name": "stdout",
     "output_type": "stream",
     "text": [
      "4489.599999999999\n"
     ]
    }
   ],
   "source": [
    "#floor of a meter long = 92\n",
    "length = 92\n",
    "#floor of a wide = 48.8\n",
    "breadth = 48.8\n",
    "\n",
    "Area = length * breadth\n",
    "print(Area)"
   ]
  },
  {
   "cell_type": "markdown",
   "id": "f86757c0",
   "metadata": {},
   "source": [
    "### 2. Create a variable called break and assign it a value 5.  See what happens and find out the reason behind the behaviour that you see.\n"
   ]
  },
  {
   "cell_type": "code",
   "execution_count": 2,
   "id": "0aed86df",
   "metadata": {},
   "outputs": [
    {
     "ename": "SyntaxError",
     "evalue": "invalid syntax (886750684.py, line 1)",
     "output_type": "error",
     "traceback": [
      "\u001b[1;36m  Cell \u001b[1;32mIn[2], line 1\u001b[1;36m\u001b[0m\n\u001b[1;33m    break = 5\u001b[0m\n\u001b[1;37m          ^\u001b[0m\n\u001b[1;31mSyntaxError\u001b[0m\u001b[1;31m:\u001b[0m invalid syntax\n"
     ]
    }
   ],
   "source": [
    "break = 5\n",
    "\n",
    "print(break)"
   ]
  },
  {
   "cell_type": "markdown",
   "id": "116841f4",
   "metadata": {},
   "source": [
    "#### break  is the keyword. we cannot assigned as a variable "
   ]
  },
  {
   "cell_type": "markdown",
   "id": "97d22858",
   "metadata": {},
   "source": [
    "### 3.Create two variable . One to store your birth year and another one to store current year.Now calculate your age using these two variables."
   ]
  },
  {
   "cell_type": "code",
   "execution_count": 4,
   "id": "b37f74b2",
   "metadata": {},
   "outputs": [
    {
     "name": "stdout",
     "output_type": "stream",
     "text": [
      "21\n"
     ]
    }
   ],
   "source": [
    "Birth_year = 2002\n",
    "Current_year = 2023\n",
    "\n",
    "Age = Current_year - Birth_year\n",
    "print(Age)"
   ]
  },
  {
   "cell_type": "markdown",
   "id": "d0b85743",
   "metadata": {},
   "source": [
    "### 4. Answer which of these are invalid variable names: \n",
    "   _nation,     \n",
    "   1record,     \n",
    "   record1,      \n",
    "   record_one,   \n",
    "   record-one,   \n",
    "   record^one,  \n",
    "   continue.  \n"
   ]
  },
  {
   "cell_type": "code",
   "execution_count": 5,
   "id": "db1b0c9a",
   "metadata": {},
   "outputs": [
    {
     "ename": "IndentationError",
     "evalue": "unexpected indent (2950207359.py, line 2)",
     "output_type": "error",
     "traceback": [
      "\u001b[1;36m  Cell \u001b[1;32mIn[5], line 2\u001b[1;36m\u001b[0m\n\u001b[1;33m    1record\u001b[0m\n\u001b[1;37m    ^\u001b[0m\n\u001b[1;31mIndentationError\u001b[0m\u001b[1;31m:\u001b[0m unexpected indent\n"
     ]
    }
   ],
   "source": [
    "# invalid variables:\n",
    "     1record\n",
    "     record-one\n",
    "     record^one\n",
    "     continue \n",
    "        "
   ]
  },
  {
   "cell_type": "code",
   "execution_count": 8,
   "id": "380b1c10",
   "metadata": {},
   "outputs": [
    {
     "ename": "SyntaxError",
     "evalue": "cannot assign to expression here. Maybe you meant '==' instead of '='? (3720876145.py, line 1)",
     "output_type": "error",
     "traceback": [
      "\u001b[1;36m  Cell \u001b[1;32mIn[8], line 1\u001b[1;36m\u001b[0m\n\u001b[1;33m    record-one = 1\u001b[0m\n\u001b[1;37m    ^\u001b[0m\n\u001b[1;31mSyntaxError\u001b[0m\u001b[1;31m:\u001b[0m cannot assign to expression here. Maybe you meant '==' instead of '='?\n"
     ]
    }
   ],
   "source": [
    "record-one = 1"
   ]
  },
  {
   "cell_type": "code",
   "execution_count": null,
   "id": "3ff32a35",
   "metadata": {},
   "outputs": [],
   "source": []
  }
 ],
 "metadata": {
  "kernelspec": {
   "display_name": "Python 3 (ipykernel)",
   "language": "python",
   "name": "python3"
  },
  "language_info": {
   "codemirror_mode": {
    "name": "ipython",
    "version": 3
   },
   "file_extension": ".py",
   "mimetype": "text/x-python",
   "name": "python",
   "nbconvert_exporter": "python",
   "pygments_lexer": "ipython3",
   "version": "3.11.3"
  }
 },
 "nbformat": 4,
 "nbformat_minor": 5
}
