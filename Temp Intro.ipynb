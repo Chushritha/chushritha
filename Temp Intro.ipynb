{
 "cells": [
  {
   "cell_type": "code",
   "execution_count": 7,
   "id": "914fcb96-a81e-404f-a3fb-319ab0def289",
   "metadata": {},
   "outputs": [
    {
     "name": "stdin",
     "output_type": "stream",
     "text": [
      " dad\n"
     ]
    },
    {
     "name": "stdout",
     "output_type": "stream",
     "text": [
      "Hurray\n"
     ]
    }
   ],
   "source": [
    "x = input()\n",
    "# palindrome check\n",
    "if x == x[::-1]:\n",
    "    print(\"Hurray\")\n",
    "else:\n",
    "    print(\"Get lost\")"
   ]
  },
  {
   "cell_type": "code",
   "execution_count": null,
   "id": "71ee73ca-395b-49ea-b74c-63f44b6c58ef",
   "metadata": {},
   "outputs": [],
   "source": []
  }
 ],
 "metadata": {
  "kernelspec": {
   "display_name": "Python 3 (ipykernel)",
   "language": "python",
   "name": "python3"
  },
  "language_info": {
   "codemirror_mode": {
    "name": "ipython",
    "version": 3
   },
   "file_extension": ".py",
   "mimetype": "text/x-python",
   "name": "python",
   "nbconvert_exporter": "python",
   "pygments_lexer": "ipython3",
   "version": "3.10.0"
  }
 },
 "nbformat": 4,
 "nbformat_minor": 5
}
