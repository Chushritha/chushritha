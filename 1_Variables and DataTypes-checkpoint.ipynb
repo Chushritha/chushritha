{
 "cells": [
  {
   "cell_type": "markdown",
   "metadata": {},
   "source": [
    "## Basics of Python"
   ]
  },
  {
   "cell_type": "markdown",
   "metadata": {},
   "source": [
    "> `Question:` Print your name"
   ]
  },
  {
   "cell_type": "code",
   "execution_count": 2,
   "metadata": {},
   "outputs": [
    {
     "name": "stdin",
     "output_type": "stream",
     "text": [
      "print your Name =  My name is Chushritha\n"
     ]
    }
   ],
   "source": [
    "A = input(\"print your Name = \")"
   ]
  },
  {
   "cell_type": "code",
   "execution_count": null,
   "metadata": {},
   "outputs": [],
   "source": []
  },
  {
   "cell_type": "markdown",
   "metadata": {},
   "source": [
    "> `Question:` What is a variable? Write a Few words about Variables. Create a Variable with an Example. "
   ]
  },
  {
   "cell_type": "markdown",
   "metadata": {},
   "source": [
    "* Variable is a memory pointer, It is the basic unit of storage in a program.\n",
    "* It is a case sensitive(Upper case and lower case)\n",
    "* Always starts with alphabet, can be alpha Numeric, cannot start with numbers, no special character(expert'_')\n",
    "* cannot have built-in keywords as variables {Ex: True, False, print, if, etc....}\n",
    "* variables are 2types global & Local\n",
    "* Global Variables: variables which are defined outside the custom defined funtion.\n",
    "* Local Variables: variables which are local to the funtion being executed"
   ]
  },
  {
   "cell_type": "code",
   "execution_count": 4,
   "metadata": {},
   "outputs": [
    {
     "name": "stdout",
     "output_type": "stream",
     "text": [
      "I am Chushritha\n"
     ]
    }
   ],
   "source": [
    "Var = \"I am Chushritha\" \n",
    "print(Var)"
   ]
  },
  {
   "cell_type": "code",
   "execution_count": null,
   "metadata": {},
   "outputs": [],
   "source": []
  },
  {
   "cell_type": "markdown",
   "metadata": {},
   "source": [
    ">`Question:` Assume that we execute the following assignment statements:\n",
    "width = 17\n",
    "height = 12.0\n",
    "delimiter = '.'\n",
    "For each of the following expressions, write the value of the expression and the type (of the value of\n",
    "the expression).\n",
    "1. width/2\n",
    "2. width/2.0\n",
    "3. height/3\n",
    "4. 1 + 2 * 5\n",
    "5. delimiter * 5"
   ]
  },
  {
   "cell_type": "code",
   "execution_count": 9,
   "metadata": {},
   "outputs": [
    {
     "name": "stdout",
     "output_type": "stream",
     "text": [
      "1.Width/2 = 8.5\n",
      "2.width/2.0 = 8.5\n",
      "3.Height/3 = 4.0\n",
      "4. 11\n",
      "5. .....\n"
     ]
    }
   ],
   "source": [
    "#Given that,\n",
    "    # width = 17, height = 12.0, delimiter = '.'\n",
    "\n",
    "\n",
    "width = 17\n",
    "print( \"1.Width/2 =\",width/2) # inter.\n",
    "print(\"2.width/2.0 =\",width/2.0) #float.\n",
    "\n",
    "height = 12.0\n",
    "print(\"3.Height/3 =\",height/3)\n",
    "\n",
    "#print 1+2*5\n",
    "A = 1+2*5\n",
    "print(\"4.\",A)\n",
    "\n",
    "delimiter = '.'\n",
    "print(\"5.\",delimiter*5)"
   ]
  },
  {
   "cell_type": "code",
   "execution_count": null,
   "metadata": {},
   "outputs": [],
   "source": []
  },
  {
   "cell_type": "markdown",
   "metadata": {},
   "source": [
    "> `Question:` Add two number by taking variable names as first and seccond"
   ]
  },
  {
   "cell_type": "code",
   "execution_count": 15,
   "metadata": {},
   "outputs": [
    {
     "name": "stdout",
     "output_type": "stream",
     "text": [
      "First Number is = 100\n",
      "Second Number is = 200\n",
      "Addition of two numbers are = 300\n"
     ]
    }
   ],
   "source": [
    "A = 10*10\n",
    "print(\"First Number is =\",A)\n",
    "B = A*2\n",
    "print(\"Second Number is =\", B)\n",
    "C= A+B\n",
    "print(\"Addition of two numbers are =\",C)"
   ]
  },
  {
   "cell_type": "code",
   "execution_count": null,
   "metadata": {},
   "outputs": [],
   "source": []
  },
  {
   "cell_type": "markdown",
   "metadata": {},
   "source": [
    "> `Question:` Add your first name and second name"
   ]
  },
  {
   "cell_type": "code",
   "execution_count": 18,
   "metadata": {},
   "outputs": [
    {
     "name": "stdout",
     "output_type": "stream",
     "text": [
      "My first name is = Sachin\n",
      "My Second name is = Tendulkar\n",
      "My full name is = SachinTendulkar\n"
     ]
    }
   ],
   "source": [
    "A = \"Sachin\"\n",
    "print(\"My first name is =\",A)\n",
    "\n",
    "B = \"Tendulkar\"\n",
    "print(\"My Second name is =\",B)\n",
    "\n",
    "C = A + B\n",
    "print(\"My full name is =\", C)"
   ]
  },
  {
   "cell_type": "markdown",
   "metadata": {},
   "source": [
    "> `Question:` print the datatypes of the following\n",
    "- 10,'10',True,10.5"
   ]
  },
  {
   "cell_type": "code",
   "execution_count": 13,
   "metadata": {},
   "outputs": [
    {
     "name": "stdout",
     "output_type": "stream",
     "text": [
      "10 - <class 'int'>\n",
      "'10' - <class 'str'>\n",
      "True - <class 'bool'>\n",
      "10.5 - <class 'float'>\n"
     ]
    }
   ],
   "source": [
    "A = 10 \n",
    "print('10 -',type(A))\n",
    "B = \"10\"\n",
    "print(\"'10' -\" ,type(B))\n",
    "c = True\n",
    "print('True -', type(c)) \n",
    "D = 10.5\n",
    "print('10.5 -', type(D))"
   ]
  },
  {
   "cell_type": "markdown",
   "metadata": {},
   "source": [
    " `Question:` \n",
    "> - num_int = 123\n",
    "> - num_str = \"456\"\n",
    "> - Add num_int and num_str\n",
    "- `hint: first need to convert num_str into integer`"
   ]
  },
  {
   "cell_type": "code",
   "execution_count": 14,
   "metadata": {},
   "outputs": [
    {
     "name": "stdout",
     "output_type": "stream",
     "text": [
      "Addition of 123 and 456 = 579\n"
     ]
    }
   ],
   "source": [
    "num_int = 123\n",
    "num_str = \"456\"\n",
    "Add = num_int + int(num_str)\n",
    "print(\"Addition of 123 and 456 =\",Add)"
   ]
  },
  {
   "cell_type": "code",
   "execution_count": null,
   "metadata": {},
   "outputs": [],
   "source": []
  },
  {
   "cell_type": "markdown",
   "metadata": {},
   "source": [
    "### Advanced Questions"
   ]
  },
  {
   "cell_type": "markdown",
   "metadata": {},
   "source": [
    "> `Question:` The volume of a sphere with radius r is  4/3πr3  . What is the volume of a sphere with radius 5?"
   ]
  },
  {
   "cell_type": "code",
   "execution_count": 23,
   "metadata": {},
   "outputs": [],
   "source": [
    "from math import pi"
   ]
  },
  {
   "cell_type": "code",
   "execution_count": 27,
   "metadata": {},
   "outputs": [
    {
     "name": "stdout",
     "output_type": "stream",
     "text": [
      "The volume of a sphere with radius 5 = 523.5987755982989\n"
     ]
    }
   ],
   "source": [
    "r = 5\n",
    "V = 4/3*pi*r**3 #volume of the sphere with radius \n",
    "print(\"The volume of a sphere with radius 5 =\",V)"
   ]
  },
  {
   "cell_type": "markdown",
   "metadata": {},
   "source": [
    "> `Question:` Suppose the cover price of a book is Rs.24.95, but bookstores get a 40% discount. Shipping costs Rs.3 for the first copy and 75 paise for each additional copy. What is the total wholesale cost for 60 copies?"
   ]
  },
  {
   "cell_type": "code",
   "execution_count": 37,
   "metadata": {},
   "outputs": [
    {
     "name": "stdout",
     "output_type": "stream",
     "text": [
      "Total price of the books = 598.8000000000001\n",
      "Total Shipping = 47.25\n",
      "The Total price = 646.0500000000001\n"
     ]
    }
   ],
   "source": [
    "bookPrice = 24.95\n",
    "discount = 0.4\n",
    "shippingPriceRest = 0.75\n",
    "shippingPriceFirst = 3.00\n",
    "totalUnits = 60\n",
    "\n",
    "bookDiscountAmount = bookPrice * discount * totalUnits\n",
    "shipping = shippingPriceRest * 59 + shippingPriceFirst\n",
    "\n",
    "result = bookDiscountAmount + shipping\n",
    "\n",
    "print ('Total price of the books = ' + str(bookDiscountAmount))\n",
    "print ('Total Shipping = ' + str(shipping))\n",
    "print ('The Total price = ' + str(result))"
   ]
  },
  {
   "cell_type": "code",
   "execution_count": null,
   "metadata": {},
   "outputs": [],
   "source": []
  },
  {
   "cell_type": "markdown",
   "metadata": {},
   "source": [
    "# [Innomatics Research Labs](https:/innomatics.in/)\n",
    "[www.innomatics.in](https:/innomatics.in/)"
   ]
  }
 ],
 "metadata": {
  "kernelspec": {
   "display_name": "Python 3 (ipykernel)",
   "language": "python",
   "name": "python3"
  },
  "language_info": {
   "codemirror_mode": {
    "name": "ipython",
    "version": 3
   },
   "file_extension": ".py",
   "mimetype": "text/x-python",
   "name": "python",
   "nbconvert_exporter": "python",
   "pygments_lexer": "ipython3",
   "version": "3.10.0"
  }
 },
 "nbformat": 4,
 "nbformat_minor": 4
}
