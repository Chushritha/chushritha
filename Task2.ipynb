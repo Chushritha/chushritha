{
 "cells": [
  {
   "cell_type": "markdown",
   "id": "1f99a9de",
   "metadata": {},
   "source": [
    "## Swapping Two variables."
   ]
  },
  {
   "cell_type": "markdown",
   "id": "39fe90d0",
   "metadata": {},
   "source": [
    "   ### Using Arithmetic Operators."
   ]
  },
  {
   "cell_type": "code",
   "execution_count": 11,
   "id": "2247dfeb",
   "metadata": {},
   "outputs": [
    {
     "name": "stdout",
     "output_type": "stream",
     "text": [
      "C = 10\n"
     ]
    }
   ],
   "source": [
    "A = 10\n",
    "B = 20 \n",
    "C = A % B #To know the C value \n",
    "print('C =', C)"
   ]
  },
  {
   "cell_type": "code",
   "execution_count": 12,
   "id": "f8f22e76",
   "metadata": {},
   "outputs": [
    {
     "name": "stdout",
     "output_type": "stream",
     "text": [
      "B =  100\n"
     ]
    }
   ],
   "source": [
    "B = C * A \n",
    "print('B = ', B) "
   ]
  },
  {
   "cell_type": "code",
   "execution_count": 13,
   "id": "76ee3fd2",
   "metadata": {},
   "outputs": [
    {
     "name": "stdout",
     "output_type": "stream",
     "text": [
      "A =  90\n"
     ]
    }
   ],
   "source": [
    "A = B - C \n",
    "print('A = ',A)"
   ]
  },
  {
   "cell_type": "code",
   "execution_count": 56,
   "id": "ed7fab8d",
   "metadata": {},
   "outputs": [
    {
     "name": "stdout",
     "output_type": "stream",
     "text": [
      "(A = 90 , B = 100 , C = 10 )\n"
     ]
    }
   ],
   "source": [
    "print('(A =',A,',','B =',B, ',','C =',C,')')"
   ]
  },
  {
   "cell_type": "code",
   "execution_count": null,
   "id": "4c0066d8",
   "metadata": {},
   "outputs": [],
   "source": []
  }
 ],
 "metadata": {
  "kernelspec": {
   "display_name": "Python 3 (ipykernel)",
   "language": "python",
   "name": "python3"
  },
  "language_info": {
   "codemirror_mode": {
    "name": "ipython",
    "version": 3
   },
   "file_extension": ".py",
   "mimetype": "text/x-python",
   "name": "python",
   "nbconvert_exporter": "python",
   "pygments_lexer": "ipython3",
   "version": "3.11.3"
  }
 },
 "nbformat": 4,
 "nbformat_minor": 5
}
