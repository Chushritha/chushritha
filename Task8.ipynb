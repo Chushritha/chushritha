{
 "cells": [
  {
   "cell_type": "code",
   "execution_count": 1,
   "id": "20500e77",
   "metadata": {},
   "outputs": [
    {
     "name": "stdout",
     "output_type": "stream",
     "text": [
      "Length of the list: 5\n",
      "['spider man', 'thor', 'hulk', 'iron man', 'captain america', 'black panther']\n",
      "['spider man', 'thor', 'hulk', 'iron man', 'captain america']\n",
      "['spider man', 'thor', 'hulk', 'black panther', 'iron man', 'captain america']\n",
      "['spider man', 'hulk', 'black panther', 'iron man', 'captain america']\n",
      "['spider man', 'black panther', 'iron man', 'captain america']\n",
      "['spider man', 'doctor strange', 'black panther', 'iron man', 'captain america']\n",
      "['black panther', 'captain america', 'doctor strange', 'iron man', 'spider man']\n"
     ]
    }
   ],
   "source": [
    "#You have a list of your favourite marvel super heros\n",
    "# heros=['spider man','thor','hulk','iron man','captain america']\n",
    "# Using this list\n",
    "\n",
    "heros = ['spider man','thor','hulk','iron man','captain america'] # Is  the given list\n",
    "\n",
    "\n",
    "###find Length of the list\n",
    "print(\"Length of the list:\",len(heros))\n",
    "\n",
    "    \n",
    "### Add 'black panther' at the end of this list\n",
    "heros.append('black panther')\n",
    "print(heros)\n",
    "\n",
    "\n",
    "### You realize that you need to add 'black panther' after 'hulk', so remove it from the list first and then add it after 'hulk'.\n",
    "heros.pop() #im removing the blackpanther \n",
    "print(heros) \n",
    "\n",
    "heros.insert(2+1,'black panther') # after the hulk i am adding blackpanter\n",
    "print(heros)\n",
    "\n",
    "\n",
    "### Now you don't like thor and hulk because they get angry easily 🙂 So you want to remove thor and hulk from list and replace them with doctor strange (because he is cool).Do that with one line of code.\n",
    "heros.pop(1) # im removing the thor\n",
    "print(heros)\n",
    "\n",
    "heros.pop(1) # im removing the hulk\n",
    "print(heros)\n",
    "\n",
    "heros.insert(0+1, 'doctor strange') #After removing the hulk and thor with in the same im adding the doctor strange\n",
    "print(heros)\n",
    "\n",
    "\n",
    "### Sort the list in alphabetical order\n",
    "heros.sort() #Arranging in the alphabetical order\n",
    "print(heros)"
   ]
  },
  {
   "cell_type": "code",
   "execution_count": 2,
   "id": "8eff0242",
   "metadata": {},
   "outputs": [
    {
     "name": "stdout",
     "output_type": "stream",
     "text": [
      "False\n",
      "[2200, 2350, 2600, 2130, 2190, 1980]\n",
      "[2200, 2350, 2600, 2190, 1980]\n",
      "[2200, 2350, 2600, 2330, 2190, 1980]\n"
     ]
    }
   ],
   "source": [
    "## Let us say your expense for every month are listed below,\n",
    "# January -  2200\n",
    "# February - 2350\n",
    "# March - 2600\n",
    "# April - 2130\n",
    "# May - 2190\n",
    "\n",
    "##Create a list to store the above monthly expenses and using that find out, In Feb, how many dollars you spent extra compare to January?\n",
    "\n",
    "Monthly_Expenses = [2200,2350,2600,2130,2190]\n",
    "(Monthly_Expenses[1]-Monthly_Expenses[0])\n",
    "\n",
    "\n",
    "## Find out your total expense in first quarter (first three months) of the year.\n",
    "\n",
    "(Monthly_Expenses[0]+Monthly_Expenses[1]+Monthly_Expenses[2])\n",
    "\n",
    "## Find out if you spent exactly 2000 dollars in any month.\n",
    "\n",
    "Monthly_Expenses = [2200,2350,2600,2130,2190]\n",
    "print(2000 in Monthly_Expenses)\n",
    "\n",
    "## June month just finished and your expense is 1980 dollar. Add this item to our monthly expense list\n",
    "\n",
    "Monthly_Expenses=[2200,2350,2600,2130,2190]\n",
    "Monthly_Expenses.append(1980)\n",
    "print(Monthly_Expenses)\n",
    "\n",
    "## You returned an item that you bought in a month of April and got a refund of 200$. Make a correction to your monthly expense list based on this.\n",
    "\n",
    "Monthly_Expenses.pop(3)\n",
    "print(Monthly_Expenses)\n",
    "\n",
    "Monthly_Expenses.insert(2+1,2330)\n",
    "print(Monthly_Expenses)"
   ]
  },
  {
   "cell_type": "code",
   "execution_count": 3,
   "id": "f44210ee",
   "metadata": {},
   "outputs": [
    {
     "name": "stdout",
     "output_type": "stream",
     "text": [
      "yes\n"
     ]
    }
   ],
   "source": [
    "# Take a list of different names, and nested lists containing different age numbers\n",
    "# a. if you have your name in that list print: yes list has your name otherwise print: name is not present in your list.\n",
    "# b. Only if age  20  is present in that list then print: hurray else print :oops \n",
    "\n",
    "x=['Chushritha','Arrani',[5,10,15],[22,42]]\n",
    "if x[0]== 'Chushritha':\n",
    "    print('yes')\n",
    "else:\n",
    "    print('name is not present in the list')"
   ]
  },
  {
   "cell_type": "code",
   "execution_count": 4,
   "id": "ae58de5e",
   "metadata": {},
   "outputs": [
    {
     "name": "stdout",
     "output_type": "stream",
     "text": [
      "oops\n"
     ]
    }
   ],
   "source": [
    "# b. Only if age  20  is present in that list then print: hurray else print :oops \n",
    "    \n",
    "if x[3][4]==20:\n",
    "    print('oops')\n",
    "else:\n",
    "    print('hurry')"
   ]
  },
  {
   "cell_type": "code",
   "execution_count": null,
   "id": "6f4290a7",
   "metadata": {},
   "outputs": [],
   "source": []
  },
  {
   "cell_type": "code",
   "execution_count": null,
   "id": "663ab040",
   "metadata": {},
   "outputs": [],
   "source": []
  }
 ],
 "metadata": {
  "kernelspec": {
   "display_name": "Python 3 (ipykernel)",
   "language": "python",
   "name": "python3"
  },
  "language_info": {
   "codemirror_mode": {
    "name": "ipython",
    "version": 3
   },
   "file_extension": ".py",
   "mimetype": "text/x-python",
   "name": "python",
   "nbconvert_exporter": "python",
   "pygments_lexer": "ipython3",
   "version": "3.8.18"
  }
 },
 "nbformat": 4,
 "nbformat_minor": 5
}
