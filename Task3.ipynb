{
 "cells": [
  {
   "cell_type": "markdown",
   "id": "037a6966",
   "metadata": {},
   "source": [
    "### 1. Calculate average of three numbers using python"
   ]
  },
  {
   "cell_type": "code",
   "execution_count": 4,
   "id": "e4875a28",
   "metadata": {},
   "outputs": [
    {
     "name": "stdout",
     "output_type": "stream",
     "text": [
      "Average of three numbers =  10.0\n"
     ]
    }
   ],
   "source": [
    "A = 5 \n",
    "B = 10\n",
    "C = 15\n",
    "\n",
    "# Average = sum of observations/ No.of observations. \n",
    "Average = (A + B + C)/3 # add the sum of all given values.\n",
    "\n",
    "print(\"Average of three numbers = \", Average)"
   ]
  },
  {
   "cell_type": "markdown",
   "id": "3a485a97",
   "metadata": {},
   "source": [
    "### 2. Take a multiple even numbers in different variables % with 2, take odd numbers with % 2."
   ]
  },
  {
   "cell_type": "code",
   "execution_count": 46,
   "id": "6e493507",
   "metadata": {},
   "outputs": [
    {
     "name": "stdout",
     "output_type": "stream",
     "text": [
      "(A,B,C) = (0, 0, 0)\n",
      "(a, b, c) = (1, 1, 1)\n"
     ]
    }
   ],
   "source": [
    "\n",
    "A, B, C = (10, 14, 18)  #different even numbers.\n",
    "a, b, c = (3, 5, 7) #different odd numbers\n",
    "\n",
    "print ('(A,B,C) =', (A%2, B%2, C%2)) # Even different variables % With 2.\n",
    "print ('(a, b, c) =', (a%2, b%2, c%2)) # odd different variables  % With 2.\n"
   ]
  },
  {
   "cell_type": "markdown",
   "id": "c57897a5",
   "metadata": {},
   "source": [
    "## 3. If you take number eg: 10 and divide that number till that number means 10%1, 10%2, 10%3, 10%4, ........10%10. What will be the remainders be. Check the same for different number."
   ]
  },
  {
   "cell_type": "code",
   "execution_count": 49,
   "id": "0909d3e9",
   "metadata": {},
   "outputs": [
    {
     "name": "stdout",
     "output_type": "stream",
     "text": [
      "10 = (0, 0, 1, 2, 0, 4, 3, 2, 1, 0)\n",
      "19 = (0, 1, 1, 3, 4, 1, 5, 3, 1, 9)\n",
      "26 = (0, 0, 2, 2, 1, 2, 5, 2, 8, 6)\n",
      "47 = (0, 1, 2, 3, 2, 5, 5, 7, 2, 7)\n",
      "69 = (0, 1, 0, 1, 4, 3, 6, 5, 6, 9)\n"
     ]
    }
   ],
   "source": [
    "10, 19, 26, 47, 69.  #from this different numbers im checking the remainders. \n",
    "\n",
    "print('10 =', (10%1, 10%2, 10%3, 10%4, 10%5, 10%6, 10%7, 10%8, 10%9, 10%10))\n",
    "print('19 =', (19%1, 19%2, 19%3, 19%4, 19%5, 19%6, 19%7, 19%8, 19%9, 19%10))\n",
    "print('26 =', (26%1, 26%2, 26%3, 26%4, 26%5, 26%6, 26%7, 26%8, 26%9, 26%10))\n",
    "print('47 =', (47%1, 47%2, 47%3, 47%4, 47%5, 47%6, 47%7, 47%8, 47%9, 47%10))\n",
    "print('69 =', (69%1, 69%2, 69%3, 69%4, 69%5, 69%6, 69%7, 69%8, 69%9, 69%10))"
   ]
  },
  {
   "cell_type": "markdown",
   "id": "cf9589d2",
   "metadata": {},
   "source": [
    "### 4. Calculate 5% of 786 using Python."
   ]
  },
  {
   "cell_type": "code",
   "execution_count": 32,
   "id": "c33153ce",
   "metadata": {},
   "outputs": [],
   "source": [
    "A = 786 # given number"
   ]
  },
  {
   "cell_type": "code",
   "execution_count": 33,
   "id": "a4be89e9",
   "metadata": {},
   "outputs": [],
   "source": [
    "Percentage = 5"
   ]
  },
  {
   "cell_type": "code",
   "execution_count": 35,
   "id": "3a466348",
   "metadata": {},
   "outputs": [],
   "source": [
    "Result = (Percentage /100) * A"
   ]
  },
  {
   "cell_type": "code",
   "execution_count": 36,
   "id": "617f671c",
   "metadata": {},
   "outputs": [
    {
     "name": "stdout",
     "output_type": "stream",
     "text": [
      "39.300000000000004\n"
     ]
    }
   ],
   "source": [
    "print(Result)"
   ]
  },
  {
   "cell_type": "code",
   "execution_count": 38,
   "id": "1cf73594",
   "metadata": {},
   "outputs": [],
   "source": [
    "Result = round(Result, 1)"
   ]
  },
  {
   "cell_type": "code",
   "execution_count": 39,
   "id": "2e2b610b",
   "metadata": {},
   "outputs": [
    {
     "name": "stdout",
     "output_type": "stream",
     "text": [
      "39.3\n"
     ]
    }
   ],
   "source": [
    "print(Result)"
   ]
  }
 ],
 "metadata": {
  "kernelspec": {
   "display_name": "Python 3 (ipykernel)",
   "language": "python",
   "name": "python3"
  },
  "language_info": {
   "codemirror_mode": {
    "name": "ipython",
    "version": 3
   },
   "file_extension": ".py",
   "mimetype": "text/x-python",
   "name": "python",
   "nbconvert_exporter": "python",
   "pygments_lexer": "ipython3",
   "version": "3.11.3"
  }
 },
 "nbformat": 4,
 "nbformat_minor": 5
}
