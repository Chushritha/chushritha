{
 "cells": [
  {
   "cell_type": "code",
   "execution_count": 2,
   "id": "c94f7edf",
   "metadata": {},
   "outputs": [
    {
     "name": "stdout",
     "output_type": "stream",
     "text": [
      "Sum of two numbers : 15\n",
      "difference of two numbers : 5\n",
      "product of two numbers : 50\n",
      "quotient of two numbers : 2.0\n"
     ]
    }
   ],
   "source": [
    "1) Arithmetic Operators\n",
    "\n",
    "'''Attempting all operators question'''\n",
    "\n",
    "#a)Write a program that calculate the sum, difference,product and quotient of two numbers:10 and 5\n",
    "A = 10\n",
    "B = 5 \n",
    "\n",
    "Sum = A + B\n",
    "print(\"Sum of two numbers :\", Sum)\n",
    "\n",
    "difference = A - B\n",
    "print(\"difference of two numbers :\",difference)\n",
    "\n",
    "Product = A * B\n",
    "print(\"product of two numbers :\",Product)\n",
    "\n",
    "quotient = A/B\n",
    "print(\"quotient of two numbers :\",quotient)\n",
    "\n",
    " "
   ]
  },
  {
   "cell_type": "code",
   "execution_count": 7,
   "id": "ead4df99",
   "metadata": {},
   "outputs": [
    {
     "name": "stdout",
     "output_type": "stream",
     "text": [
      "63.585\n"
     ]
    }
   ],
   "source": [
    "#b)Create a program that calculates the area of a circle with a radius of 4.5 units.\n",
    "\n",
    "radius = 4.5\n",
    "pi = 3.14 \n",
    " \n",
    "## Area of a circle with a radius \n",
    "Area = pi * radius * radius   \n",
    "\n",
    "print(Area)"
   ]
  },
  {
   "cell_type": "code",
   "execution_count": 11,
   "id": "f4bd72d7",
   "metadata": {},
   "outputs": [
    {
     "name": "stdout",
     "output_type": "stream",
     "text": [
      "10\n",
      "5\n"
     ]
    }
   ],
   "source": [
    "# 2) Assignment Operators.\n",
    "#a)write a program that swaps the values of two variables x with a value of 5 and y with a value of 10\n",
    "\n",
    "x,y = 5,10   # two variables and it's values.\n",
    "x,y = y,x  # swapping the values of two variables.\n",
    "print(x)\n",
    "print(y)\n"
   ]
  },
  {
   "cell_type": "code",
   "execution_count": 21,
   "id": "4d444fdc",
   "metadata": {},
   "outputs": [
    {
     "name": "stdout",
     "output_type": "stream",
     "text": [
      "157.62500000000023\n"
     ]
    }
   ],
   "source": [
    "#b)create a program that calculates compound interest for a principal amount of $1000,an interest rate of 5%,and a time period of 3years\n",
    "\n",
    "principle_amount = 1000\n",
    "rate_interest = 0.05\n",
    "ime_Period = 3\n",
    "\n",
    "#Compount_intrest formula\n",
    "Compound_interest = amount-principal_amount   #Compount_intrest formula\n",
    "\n",
    "# In the above formula we don't have amount value \n",
    "# we have to find the amount value\n",
    "\n",
    "amount = principal_amount*(1 + rate_interest)**time_period\n",
    "\n",
    "print(Compound_interest)\n"
   ]
  },
  {
   "cell_type": "code",
   "execution_count": 25,
   "id": "c455bbb6",
   "metadata": {},
   "outputs": [
    {
     "name": "stdout",
     "output_type": "stream",
     "text": [
      "False\n",
      "True\n",
      "False\n"
     ]
    }
   ],
   "source": [
    "#3.comparision operator\n",
    "#a)write a program that compares two numbers:7 and 12,and determines whether the first number is greater than,less than or equal to the second number\n",
    "A = 7\n",
    "B = 12\n",
    "C = A > B\n",
    "print(C)\n",
    "D = A < B\n",
    "print(D)\n",
    "E= A == B\n",
    "print(E)"
   ]
  },
  {
   "cell_type": "code",
   "execution_count": 23,
   "id": "834facf9",
   "metadata": {},
   "outputs": [
    {
     "name": "stdout",
     "output_type": "stream",
     "text": [
      "True\n",
      "False\n"
     ]
    }
   ],
   "source": [
    "#b)create a program that checks if a person of age 18 is eligible to vote based on the voting age requirement.\n",
    "person1 = 20\n",
    "print(person1 >= 18)\n",
    "person2 = 13\n",
    "print(person2 >= 18)\n"
   ]
  },
  {
   "cell_type": "code",
   "execution_count": 22,
   "id": "7bae6b94",
   "metadata": {},
   "outputs": [
    {
     "name": "stdout",
     "output_type": "stream",
     "text": [
      "True\n",
      "True\n"
     ]
    }
   ],
   "source": [
    "#4.Logical operators\n",
    "#a)write a program that checks if the entered username and password match the predefined:username=\"admin\" and password = \"password123\"\n",
    "user_name=\"admin\"\n",
    "password = \"password123\"\n",
    "print(user_name == \"admin\")\n",
    "print(password == \"password123\")"
   ]
  },
  {
   "cell_type": "code",
   "execution_count": 26,
   "id": "20b57700",
   "metadata": {},
   "outputs": [
    {
     "name": "stdout",
     "output_type": "stream",
     "text": [
      "True\n"
     ]
    }
   ],
   "source": [
    "#b)create a program that determines whether the year 2020 is a leap year or not using logical operator\n",
    "year = 2020\n",
    "print(year%4 == 0  )"
   ]
  },
  {
   "cell_type": "code",
   "execution_count": 27,
   "id": "6e2631d1",
   "metadata": {},
   "outputs": [
    {
     "name": "stdout",
     "output_type": "stream",
     "text": [
      "Binary number of 42 is: 0b101010\n"
     ]
    }
   ],
   "source": [
    "#5.Bitwise oprators\n",
    "#a)write a program that calculates the binay representation of the integer 42 using bitwise operators.\n",
    "print(\"Binary number of 42 is:\",bin(42))\n"
   ]
  },
  {
   "cell_type": "code",
   "execution_count": 30,
   "id": "573d7a0b",
   "metadata": {},
   "outputs": [
    {
     "name": "stdout",
     "output_type": "stream",
     "text": [
      "value of a : 20\n",
      "value of a : 10\n"
     ]
    }
   ],
   "source": [
    "#b. create a program that swaps the values of two integers:a with a value of 10 and b with a value a value of 20 using bitwise XOR oprator\n",
    "a=10\n",
    "b=20\n",
    "a = a ^ b\n",
    "b = a ^ b\n",
    "a = a ^ b\n",
    "print(\"value of a :\", a)\n",
    "print(\"value of a :\", b)"
   ]
  },
  {
   "cell_type": "code",
   "execution_count": 47,
   "id": "e338d2f4",
   "metadata": {},
   "outputs": [
    {
     "name": "stdout",
     "output_type": "stream",
     "text": [
      "name = Raghu Ram Aduri\n",
      "Raghu Ram Aduri\n",
      "name[3 : 9] = hu Ram\n",
      "name[3 : ] = hu Ram Aduri\n",
      "name[3 : 9] = Raghu Ram\n",
      "name[-4 : -9] = \n",
      "name[-4 : -9: -1] = dA ma\n",
      "name[3: 10: 2] = h a \n",
      "name[10: 3: -2] = AmRu\n",
      "name[-2 ::] = ri\n",
      "name[ : -4: -1] = iru\n",
      "name[ :-7 : 1] = Raghu Ra\n"
     ]
    }
   ],
   "source": [
    "name = 'Raghu Ram Aduri'\n",
    "print(\"name =\", name)\n",
    "name[3 : 9]\n",
    "print(name)\n",
    "print(\"name[3 : 9] =\",name[3 : 9])\n",
    "name[3 : ]\n",
    "print(\"name[3 : ] =\",name[3 : ])\n",
    "name[ : 9]\n",
    "print(\"name[3 : 9] =\",name[ : 9])\n",
    "name[-4 : -9]\n",
    "print(\"name[-4 : -9] =\",name[-4 : -9])\n",
    "name[-4: -9: -1]\n",
    "print(\"name[-4 : -9: -1] =\",name[-4: -9: -1])\n",
    "name[3: 10 : 2]\n",
    "print(\"name[3: 10: 2] =\",name[3: 10 : 2])\n",
    "name[10: 3:-2]\n",
    "print(\"name[10: 3: -2] =\",name[10: 3:-2])\n",
    "name[-2 :: ]\n",
    "print(\"name[-2 ::] =\",name[-2 :: ])\n",
    "name[ :-4 : -1]\n",
    "print(\"name[ : -4: -1] =\",name[ :-4 : -1])\n",
    "name[ :-7 : 1]\n",
    "print(\"name[ :-7 : 1] =\",name[ :-7 : 1])"
   ]
  }
 ],
 "metadata": {
  "kernelspec": {
   "display_name": "Python 3 (ipykernel)",
   "language": "python",
   "name": "python3"
  },
  "language_info": {
   "codemirror_mode": {
    "name": "ipython",
    "version": 3
   },
   "file_extension": ".py",
   "mimetype": "text/x-python",
   "name": "python",
   "nbconvert_exporter": "python",
   "pygments_lexer": "ipython3",
   "version": "3.8.18"
  }
 },
 "nbformat": 4,
 "nbformat_minor": 5
}
