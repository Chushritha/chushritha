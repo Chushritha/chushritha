{
 "cells": [
  {
   "cell_type": "code",
   "execution_count": 1,
   "id": "e418875c",
   "metadata": {},
   "outputs": [
    {
     "name": "stdout",
     "output_type": "stream",
     "text": [
      "Enter person age : 22\n",
      "Eligible for vote\n"
     ]
    }
   ],
   "source": [
    "#write a program to check if  a person is eligible to vote or not.\n",
    "\n",
    "Age = int(input(\"Enter person age : \"))\n",
    "if Age >= 18:\n",
    "    print(\"Eligible for vote\")\n",
    "else:\n",
    "    print(\"Not Eligible\")"
   ]
  },
  {
   "cell_type": "code",
   "execution_count": 1,
   "id": "f459382b",
   "metadata": {},
   "outputs": [
    {
     "name": "stdout",
     "output_type": "stream",
     "text": [
      "Enter year : 2004\n",
      "Given 2004 year is a leap year .\n"
     ]
    }
   ],
   "source": [
    "#write a program to check if the entered year is a leap year or not\n",
    "\n",
    "year=int(input(\"Enter year : \"))\n",
    "if ((year%100!=0) and (year%4==0) or (year%400==0)) :\n",
    "    print(\"Given {} year is a leap year .\".format(year))\n",
    "else:\n",
    "    print(\"Given {} year is not a leap year\".format(year))\n",
    "    "
   ]
  },
  {
   "cell_type": "code",
   "execution_count": 6,
   "id": "8fbd3e57",
   "metadata": {},
   "outputs": [
    {
     "name": "stdout",
     "output_type": "stream",
     "text": [
      "Enter any number : 1069\n",
      "Given 1069 number is ending with '9' \n"
     ]
    }
   ],
   "source": [
    "## '''take a number and extract the last digit from that number\n",
    "#if that number is 0: print number ending with 0 , \n",
    "#if ending with 1 print: number ending with 1,........,\n",
    "#if number is ending with 9 print: number ending with 9\n",
    "\n",
    "number=int(input(\"Enter any number : \"))\n",
    "last_digit=number%10\n",
    "if last_digit==0 :\n",
    "    print(\"Given {} number is ending with '0' \".format(number))\n",
    "elif last_digit==1:\n",
    "    print(\"Given {} number is ending with '1' \".format(number))\n",
    "elif last_digit==9:\n",
    "    print(\"Given {} number is ending with '9' \".format(number))"
   ]
  },
  {
   "cell_type": "code",
   "execution_count": 1,
   "id": "7e8c6fd3",
   "metadata": {},
   "outputs": [
    {
     "name": "stdout",
     "output_type": "stream",
     "text": [
      "To check the prerequisites to become a data scientist \n",
      " Enter pass or fail\n",
      "SSC : 90\n",
      "Intermediate : 65\n",
      "Data Science Course at Innomatics : 60\n",
      "Assessments : 10\n",
      "Enter 'yes' or 'No'\n",
      "Apply for jobs : yes\n",
      "Are you perform well in interviews : Giving my best\n",
      "Better luck next time.\n"
     ]
    }
   ],
   "source": [
    "'''write a program to check the prerequisites to become a data scientist : \n",
    "eg :first you have pass SSC, then u should pass intermediate,...... \n",
    "complete data science course at Innomatics, complete assessments,\n",
    "tasks ....apply for jobs, perform well \n",
    "in interviews then print: congrats u r now a data scientist else print : better luck next time.'''\n",
    "\n",
    "print(\"To check the prerequisites to become a data scientist \\n Enter pass or fail\")\n",
    "ssc=input(\"SSC : \")\n",
    "inter=input(\"Intermediate : \")\n",
    "ds=input(\"Data Science Course at Innomatics : \")\n",
    "assessments=input(\"Assessments : \")\n",
    "print(\"Enter 'yes' or 'No'\")\n",
    "job=input(\"Apply for jobs : \")\n",
    "perform=input(\"Are you perform well in interviews : \")\n",
    "if ssc==\"pass\" : \n",
    "    if inter==\"pass\":\n",
    "        if ds==\"pass\" :\n",
    "            if assessments==\"pass\":\n",
    "                if  job==\"yes\":\n",
    "                    if perform=='yes':\n",
    "                        print(\"congrats u r now a data scientist .\")\n",
    "else:\n",
    "    print(\"Better luck next time.\")"
   ]
  },
  {
   "cell_type": "code",
   "execution_count": null,
   "id": "948bbaad",
   "metadata": {},
   "outputs": [],
   "source": []
  }
 ],
 "metadata": {
  "kernelspec": {
   "display_name": "Python 3 (ipykernel)",
   "language": "python",
   "name": "python3"
  },
  "language_info": {
   "codemirror_mode": {
    "name": "ipython",
    "version": 3
   },
   "file_extension": ".py",
   "mimetype": "text/x-python",
   "name": "python",
   "nbconvert_exporter": "python",
   "pygments_lexer": "ipython3",
   "version": "3.8.18"
  }
 },
 "nbformat": 4,
 "nbformat_minor": 5
}
