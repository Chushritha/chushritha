{
 "cells": [
  {
   "cell_type": "code",
   "execution_count": null,
   "id": "1c033a51",
   "metadata": {},
   "outputs": [],
   "source": [
    "#1. Try to get symmetric difference of two sets , \n",
    "#without using symmetric difference inbuilt function don't use ^ operator as well.\n",
    "\n",
    "A = {1, 2, 3, 4, 5} \n",
    "B = {6, 7, 8, 2, 1}\n",
    "\n",
    "C = (A|B) #We are removing dupicates  with (union)\n",
    "print(C)\n",
    "\n",
    "D = (A&B) #We are arrange the common numbers with (intersection) \n",
    "print(D)\n",
    "\n",
    "print(C - D) #Symmetric_difference   \n",
    "\n",
    "print(\"Symmetric_difference is\",C-D)"
   ]
  },
  {
   "cell_type": "code",
   "execution_count": 12,
   "id": "af2ffda2",
   "metadata": {},
   "outputs": [
    {
     "name": "stdout",
     "output_type": "stream",
     "text": [
      "Symmetric_difference is {3, 4, 5}\n",
      "None\n",
      "Symmetric_difference.update()= None\n",
      "Difference is {3, 4, 5}\n",
      "None\n",
      "Difference.update()= None\n"
     ]
    }
   ],
   "source": [
    "# 2. Check out the difference between (symmetric_difference vs symmetric_difference_update) and \n",
    "# (difference vs difference_update in sets. (To be explained in class tomorrow - JAM session )\n",
    "\n",
    "X = {1, 2, 3, 4, 5} \n",
    "Y = {6, 7, 8, 2, 1}\n",
    "\n",
    "print(\"Symmetric_difference is\",X-Y)\n",
    "\n",
    "print((X-Y).update())\n",
    "print(\"Symmetric_difference.update()=\",(X-Y).update())\n",
    "\n",
    "\n",
    "A= {1, 2, 3, 4, 5} \n",
    "B = {6, 7, 8, 2, 1}\n",
    "\n",
    "print(\"Difference is\",A-B)\n",
    "\n",
    "print((A-B).update())\n",
    "print(\"Difference.update()=\",(A-B).update())"
   ]
  },
  {
   "cell_type": "code",
   "execution_count": 22,
   "id": "8cf8b9c7",
   "metadata": {},
   "outputs": [
    {
     "name": "stdout",
     "output_type": "stream",
     "text": [
      "lost_elements_in_A1 (1, 2, 4)\n",
      "lost_elements_in_A2 (8, 9, 7)\n"
     ]
    }
   ],
   "source": [
    "# 3. Lost element here : It is a element which is not present in other collections\n",
    "#We have a two tuples \n",
    "#t1=(1,2,3,4,5,6) t2=(3,5,6)\n",
    "#t1=(7,8,9) t2=(3,5,6,7,8,9)\n",
    "#Find the lost elements :\n",
    "#check if you have lost elements in the tuples you take, \n",
    "# when you have lost elements in t1  ; print : lost elements in t1 : (1,2,4) as in eg:1 \n",
    "# when you have lost elements in t2 ;  print : lost elements in t2: ( 3,5,6) as in eg:2\n",
    "\n",
    "\n",
    "A1 = (1,2,3,4,5,6)\n",
    "A2 = (3,5,6,7,8,9)\n",
    "A3 = (set(A1))\n",
    "A4=(set(A2))\n",
    "A5=A3.difference(A4)\n",
    "A6=A4.difference(A3)\n",
    "A7=tuple(A5)\n",
    "A8=tuple(A6)\n",
    "print(\"lost_elements_in_A1\",A7)\n",
    "print(\"lost_elements_in_A2\",A8)"
   ]
  }
 ],
 "metadata": {
  "kernelspec": {
   "display_name": "Python 3 (ipykernel)",
   "language": "python",
   "name": "python3"
  },
  "language_info": {
   "codemirror_mode": {
    "name": "ipython",
    "version": 3
   },
   "file_extension": ".py",
   "mimetype": "text/x-python",
   "name": "python",
   "nbconvert_exporter": "python",
   "pygments_lexer": "ipython3",
   "version": "3.8.18"
  }
 },
 "nbformat": 4,
 "nbformat_minor": 5
}
