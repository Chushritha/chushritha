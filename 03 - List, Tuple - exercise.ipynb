{
 "cells": [
  {
   "cell_type": "markdown",
   "metadata": {},
   "source": [
    "###  LIST"
   ]
  },
  {
   "cell_type": "markdown",
   "metadata": {},
   "source": [
    "`Question:`:Create a list of numbers\n",
    "> nums = [1,2,3,4] "
   ]
  },
  {
   "cell_type": "code",
   "execution_count": 1,
   "metadata": {},
   "outputs": [
    {
     "data": {
      "text/plain": [
       "[1, 2, 3, 4]"
      ]
     },
     "execution_count": 1,
     "metadata": {},
     "output_type": "execute_result"
    }
   ],
   "source": [
    "nums = [1, 2, 3, 4]\n",
    "nums"
   ]
  },
  {
   "cell_type": "code",
   "execution_count": 30,
   "metadata": {},
   "outputs": [
    {
     "data": {
      "text/plain": [
       "[1, 2, 3, 4]"
      ]
     },
     "execution_count": 30,
     "metadata": {},
     "output_type": "execute_result"
    }
   ],
   "source": []
  },
  {
   "cell_type": "markdown",
   "metadata": {},
   "source": [
    "** `Question:` Remove number \"3\" in a list**"
   ]
  },
  {
   "cell_type": "code",
   "execution_count": 3,
   "metadata": {},
   "outputs": [
    {
     "data": {
      "text/plain": [
       "[1, 2, 4]"
      ]
     },
     "execution_count": 3,
     "metadata": {},
     "output_type": "execute_result"
    }
   ],
   "source": [
    "nums = [1, 2, 3, 4]\n",
    "nums.remove(3)\n",
    "nums\n"
   ]
  },
  {
   "cell_type": "code",
   "execution_count": 31,
   "metadata": {},
   "outputs": [
    {
     "data": {
      "text/plain": [
       "[1, 2, 4]"
      ]
     },
     "execution_count": 31,
     "metadata": {},
     "output_type": "execute_result"
    }
   ],
   "source": [
    "# Method 1 \n"
   ]
  },
  {
   "cell_type": "code",
   "execution_count": 5,
   "metadata": {},
   "outputs": [
    {
     "data": {
      "text/plain": [
       "[1, 2, 4]"
      ]
     },
     "execution_count": 5,
     "metadata": {},
     "output_type": "execute_result"
    }
   ],
   "source": [
    "nums = [1, 2, 3, 4]\n",
    "nums = [x for x in nums if x != 3]\n",
    "nums\n"
   ]
  },
  {
   "cell_type": "code",
   "execution_count": 14,
   "metadata": {},
   "outputs": [
    {
     "data": {
      "text/plain": [
       "[1, 2, 4]"
      ]
     },
     "execution_count": 14,
     "metadata": {},
     "output_type": "execute_result"
    }
   ],
   "source": [
    "# Method 2\n"
   ]
  },
  {
   "cell_type": "code",
   "execution_count": 6,
   "metadata": {},
   "outputs": [
    {
     "data": {
      "text/plain": [
       "[1, 2, 4]"
      ]
     },
     "execution_count": 6,
     "metadata": {},
     "output_type": "execute_result"
    }
   ],
   "source": [
    "nums = [1, 2, 3, 4]\n",
    "nums = nums[:nums.index(3)] + nums[nums.index(3) + 1:]\n",
    "nums"
   ]
  },
  {
   "cell_type": "code",
   "execution_count": 16,
   "metadata": {},
   "outputs": [
    {
     "data": {
      "text/plain": [
       "[1, 2, 4]"
      ]
     },
     "execution_count": 16,
     "metadata": {},
     "output_type": "execute_result"
    }
   ],
   "source": [
    "# Method 3\n"
   ]
  },
  {
   "cell_type": "markdown",
   "metadata": {},
   "source": [
    "**`Question:` :Insert number \"1\" in 0th position**\n",
    "- lst = [2,3,4]"
   ]
  },
  {
   "cell_type": "code",
   "execution_count": 7,
   "metadata": {},
   "outputs": [
    {
     "data": {
      "text/plain": [
       "[1, 2, 3, 4]"
      ]
     },
     "execution_count": 7,
     "metadata": {},
     "output_type": "execute_result"
    }
   ],
   "source": [
    "lst = [2, 3, 4]\n",
    "lst.insert(0, 1)\n",
    "lst"
   ]
  },
  {
   "cell_type": "code",
   "execution_count": 35,
   "metadata": {},
   "outputs": [
    {
     "data": {
      "text/plain": [
       "[1, 2, 3, 4]"
      ]
     },
     "execution_count": 35,
     "metadata": {},
     "output_type": "execute_result"
    }
   ],
   "source": []
  },
  {
   "cell_type": "markdown",
   "metadata": {},
   "source": [
    "**`Question:` Insert \"two-and-half\" in 2nd position**"
   ]
  },
  {
   "cell_type": "code",
   "execution_count": 9,
   "metadata": {},
   "outputs": [
    {
     "data": {
      "text/plain": [
       "[1, 2, 'two-and-half', 3, 4]"
      ]
     },
     "execution_count": 9,
     "metadata": {},
     "output_type": "execute_result"
    }
   ],
   "source": [
    "lst = [1, 2, 3, 4]\n",
    "lst.insert(2, \"two-and-half\")\n",
    "lst\n"
   ]
  },
  {
   "cell_type": "code",
   "execution_count": 37,
   "metadata": {},
   "outputs": [
    {
     "data": {
      "text/plain": [
       "[1, 2, 'two-and-half', 3, 4]"
      ]
     },
     "execution_count": 37,
     "metadata": {},
     "output_type": "execute_result"
    }
   ],
   "source": []
  },
  {
   "cell_type": "markdown",
   "metadata": {},
   "source": [
    "**`Question:` phrase = \"Don't panic!\"**\n",
    "- **Convert above text into list**"
   ]
  },
  {
   "cell_type": "code",
   "execution_count": 10,
   "metadata": {},
   "outputs": [
    {
     "name": "stdout",
     "output_type": "stream",
     "text": [
      "['D', 'o', 'n', \"'\", 't', ' ', 'p', 'a', 'n', 'i', 'c', '!']\n"
     ]
    }
   ],
   "source": [
    "phrase = \"Don't panic!\"\n",
    "char_list = []\n",
    "\n",
    "for char in phrase:\n",
    "    char_list.append(char)\n",
    "\n",
    "print(char_list)\n"
   ]
  },
  {
   "cell_type": "code",
   "execution_count": 38,
   "metadata": {},
   "outputs": [],
   "source": [
    "# CODE HERE"
   ]
  },
  {
   "cell_type": "markdown",
   "metadata": {},
   "source": [
    "*convert into list*"
   ]
  },
  {
   "cell_type": "code",
   "execution_count": 41,
   "metadata": {},
   "outputs": [
    {
     "data": {
      "text/plain": [
       "['D', 'o', 'n', \"'\", 't', ' ', 'p', 'a', 'n', 'i', 'c', '!']"
      ]
     },
     "execution_count": 41,
     "metadata": {},
     "output_type": "execute_result"
    }
   ],
   "source": []
  },
  {
   "cell_type": "markdown",
   "metadata": {},
   "source": [
    "`Question:` Remove ** '** and **!** in the list"
   ]
  },
  {
   "cell_type": "code",
   "execution_count": 11,
   "metadata": {},
   "outputs": [
    {
     "name": "stdout",
     "output_type": "stream",
     "text": [
      "['D', 'o', 'n', 't', ' ', 'p', 'a', 'n', 'i', 'c']\n"
     ]
    }
   ],
   "source": [
    "char_list = [\"D\", \"o\", \"n\", \"'\", \"t\", \" \", \"p\", \"a\", \"n\", \"i\", \"c\", \"!\"]\n",
    "\n",
    "filtered_list = [char for char in char_list if char not in (\"'\", \"!\")]\n",
    "\n",
    "print(filtered_list)\n"
   ]
  },
  {
   "cell_type": "code",
   "execution_count": 43,
   "metadata": {},
   "outputs": [
    {
     "data": {
      "text/plain": [
       "['D', 'o', 'n', 't', ' ', 'p', 'a', 'n', 'i', 'c']"
      ]
     },
     "execution_count": 43,
     "metadata": {},
     "output_type": "execute_result"
    }
   ],
   "source": []
  },
  {
   "cell_type": "markdown",
   "metadata": {},
   "source": [
    "**`Question:` Remove \"p\" , \"a\", \"n\",\"D\" and extend at the last**"
   ]
  },
  {
   "cell_type": "code",
   "execution_count": 16,
   "metadata": {},
   "outputs": [
    {
     "name": "stdout",
     "output_type": "stream",
     "text": [
      "['o', 't', ' ', 'i', 'c', 'D', 'n', 'p', 'a', 'n']\n"
     ]
    }
   ],
   "source": [
    "char_list = [\"D\", \"o\", \"n\", \"t\", \" \", \"p\", \"a\", \"n\", \"i\", \"c\"]\n",
    "\n",
    "# Remove \"p\", \"a\", \"n\", and \"D\"\n",
    "removed_chars = [char for char in char_list if char in (\"p\", \"a\", \"n\", \"D\")]\n",
    "char_list = [char for char in char_list if char not in (\"p\", \"a\", \"n\", \"D\")]\n",
    "\n",
    "# Extend the removed characters at the end\n",
    "char_list.extend(removed_chars)\n",
    "\n",
    "print(char_list)\n",
    "\n"
   ]
  },
  {
   "cell_type": "code",
   "execution_count": 45,
   "metadata": {},
   "outputs": [
    {
     "data": {
      "text/plain": [
       "['o', 'n', 't', ' ', 'i', 'c', 'p', 'a', 'n', 'D']"
      ]
     },
     "execution_count": 45,
     "metadata": {},
     "output_type": "execute_result"
    }
   ],
   "source": []
  },
  {
   "cell_type": "markdown",
   "metadata": {},
   "source": [
    "**`Question:` Join the given list ['p', 'a', 'n', 'D', 'a']**"
   ]
  },
  {
   "cell_type": "code",
   "execution_count": 17,
   "metadata": {},
   "outputs": [
    {
     "name": "stdout",
     "output_type": "stream",
     "text": [
      "panDa\n"
     ]
    }
   ],
   "source": [
    "char_list = ['p', 'a', 'n', 'D', 'a']\n",
    "joined_string = ''.join(char_list)\n",
    "\n",
    "print(joined_string)\n"
   ]
  },
  {
   "cell_type": "code",
   "execution_count": 21,
   "metadata": {},
   "outputs": [
    {
     "data": {
      "text/plain": [
       "'panDa'"
      ]
     },
     "execution_count": 21,
     "metadata": {},
     "output_type": "execute_result"
    }
   ],
   "source": []
  },
  {
   "cell_type": "markdown",
   "metadata": {},
   "source": [
    "###  Tuples"
   ]
  },
  {
   "cell_type": "markdown",
   "metadata": {},
   "source": [
    "**`Question:` Create a tuples for numbers 31,24,35,85 as nums**"
   ]
  },
  {
   "cell_type": "code",
   "execution_count": 18,
   "metadata": {},
   "outputs": [
    {
     "data": {
      "text/plain": [
       "(31, 24, 35, 85)"
      ]
     },
     "execution_count": 18,
     "metadata": {},
     "output_type": "execute_result"
    }
   ],
   "source": [
    "nums = (31, 24, 35, 85)\n",
    "nums"
   ]
  },
  {
   "cell_type": "code",
   "execution_count": 11,
   "metadata": {},
   "outputs": [
    {
     "name": "stdout",
     "output_type": "stream",
     "text": [
      "data type <class 'tuple'>\n",
      "(31, 24, 35, 85)\n"
     ]
    }
   ],
   "source": []
  },
  {
   "cell_type": "markdown",
   "metadata": {},
   "source": [
    "**`Question:` Remove number \"35\" in a tuple**\n",
    "\n",
    "*Hint:* Convert into list"
   ]
  },
  {
   "cell_type": "code",
   "execution_count": 19,
   "metadata": {},
   "outputs": [
    {
     "name": "stdout",
     "output_type": "stream",
     "text": [
      "(31, 24, 85)\n"
     ]
    }
   ],
   "source": [
    "# Create the original tuple\n",
    "nums = (31, 24, 35, 85)\n",
    "\n",
    "# Convert the tuple to a list\n",
    "nums_list = list(nums)\n",
    "\n",
    "# Remove the number \"35\" from the list\n",
    "nums_list.remove(35)\n",
    "\n",
    "# Convert the list back to a tuple\n",
    "nums = tuple(nums_list)\n",
    "\n",
    "print(nums)\n"
   ]
  },
  {
   "cell_type": "code",
   "execution_count": 12,
   "metadata": {},
   "outputs": [
    {
     "data": {
      "text/plain": [
       "(31, 24, 85)"
      ]
     },
     "execution_count": 12,
     "metadata": {},
     "output_type": "execute_result"
    }
   ],
   "source": []
  },
  {
   "cell_type": "markdown",
   "metadata": {},
   "source": [
    "**Extent** tuple (85,19)"
   ]
  },
  {
   "cell_type": "code",
   "execution_count": 22,
   "metadata": {},
   "outputs": [
    {
     "name": "stdout",
     "output_type": "stream",
     "text": [
      "(31, 24, 85, 85, 19)\n"
     ]
    }
   ],
   "source": [
    "# Create the original tuple\n",
    "nums = (31, 24, 35, 85)\n",
    "\n",
    "# Convert the tuple to a list\n",
    "nums_list = list(nums)\n",
    "\n",
    "# Remove the number \"35\" from the list\n",
    "nums_list.remove(35)\n",
    "\n",
    "# Convert the list back to a tuple\n",
    "nums = tuple(nums_list)\n",
    "\n",
    "# Extend the tuple with (42, 56)\n",
    "extension = (85, 19)\n",
    "nums = nums + extension\n",
    "\n",
    "print(nums)\n",
    "\n"
   ]
  },
  {
   "cell_type": "code",
   "execution_count": 15,
   "metadata": {},
   "outputs": [
    {
     "data": {
      "text/plain": [
       "(31, 24, 85, 85, 19)"
      ]
     },
     "execution_count": 15,
     "metadata": {},
     "output_type": "execute_result"
    }
   ],
   "source": []
  },
  {
   "cell_type": "markdown",
   "metadata": {},
   "source": [
    "**`Question:` Write code to check whether an element ('i') exists within a tuple.**\n",
    "- tpl = ('i','n''n','0')"
   ]
  },
  {
   "cell_type": "code",
   "execution_count": 24,
   "metadata": {},
   "outputs": [
    {
     "name": "stdout",
     "output_type": "stream",
     "text": [
      "True\n"
     ]
    }
   ],
   "source": [
    "tpl = ('i', 'n', 'n', '0')\n",
    "element_exists = 'i' in tpl\n",
    "\n",
    "print(element_exists)\n"
   ]
  },
  {
   "cell_type": "code",
   "execution_count": 1,
   "metadata": {},
   "outputs": [
    {
     "name": "stdout",
     "output_type": "stream",
     "text": [
      "True\n"
     ]
    }
   ],
   "source": []
  },
  {
   "cell_type": "markdown",
   "metadata": {},
   "source": [
    "**`Question:` Write a python code to replace/insert the value**\n",
    "- list = ['Hello',100,[],'innomatics']"
   ]
  },
  {
   "cell_type": "code",
   "execution_count": 30,
   "metadata": {},
   "outputs": [
    {
     "name": "stdout",
     "output_type": "stream",
     "text": [
      "['Hello', 100, [200], 'innomatics']\n"
     ]
    }
   ],
   "source": [
    "my_list = ['Hello', 100, [], 'innomatics']\n",
    "\n",
    "# Replace the value at index 2 with a new value\n",
    "my_list[2] = [200]\n",
    "\n",
    "# Insert a value at a specific index (e.g., index 1)\n",
    "\n",
    "\n",
    "print(my_list)\n"
   ]
  },
  {
   "cell_type": "code",
   "execution_count": 2,
   "metadata": {},
   "outputs": [
    {
     "data": {
      "text/plain": [
       "['Hello', 100, [200], 'innomatics']"
      ]
     },
     "execution_count": 2,
     "metadata": {},
     "output_type": "execute_result"
    }
   ],
   "source": []
  },
  {
   "cell_type": "markdown",
   "metadata": {},
   "source": [
    "**`Question:` Write a Python program to reverse a tuple.**"
   ]
  },
  {
   "cell_type": "code",
   "execution_count": 32,
   "metadata": {},
   "outputs": [
    {
     "name": "stdout",
     "output_type": "stream",
     "text": [
      "scitamonnI\n"
     ]
    }
   ],
   "source": [
    "# Original tuple\n",
    "original_tuple = (\"Innomatics\")\n",
    "\n",
    "# Reverse the tuple using slicing\n",
    "reversed_tuple = original_tuple[::-1]\n",
    "\n",
    "# Print the reversed tuple\n",
    "print(reversed_tuple)\n"
   ]
  },
  {
   "cell_type": "code",
   "execution_count": 6,
   "metadata": {},
   "outputs": [],
   "source": [
    "# CODE HERE\n",
    "tpl = (\"Innomatics\")"
   ]
  },
  {
   "cell_type": "code",
   "execution_count": 5,
   "metadata": {},
   "outputs": [
    {
     "name": "stdout",
     "output_type": "stream",
     "text": [
      "('s', 'c', 'i', 't', 'a', 'm', 'o', 'n', 'n', 'I')\n"
     ]
    }
   ],
   "source": []
  },
  {
   "cell_type": "code",
   "execution_count": 9,
   "metadata": {},
   "outputs": [
    {
     "data": {
      "text/plain": [
       "(1, 2, 3, 4)"
      ]
     },
     "execution_count": 9,
     "metadata": {},
     "output_type": "execute_result"
    }
   ],
   "source": [
    "tpl = (1,2,3)+(4,)\n",
    "tpl"
   ]
  },
  {
   "cell_type": "markdown",
   "metadata": {},
   "source": [
    "**`Question:` Write a Python program to add one more value at last postion of tuples in a list**\n",
    "- tpl = [(10, 20, 40), (40, 50, 60), (70, 80, 90)]\n",
    "- `hint- use for loop`"
   ]
  },
  {
   "cell_type": "code",
   "execution_count": 33,
   "metadata": {},
   "outputs": [
    {
     "name": "stdout",
     "output_type": "stream",
     "text": [
      "[(10, 20, 40, 100), (40, 50, 60, 100), (70, 80, 90, 100)]\n"
     ]
    }
   ],
   "source": [
    "# Original list of tuples\n",
    "tpl = [(10, 20, 40), (40, 50, 60), (70, 80, 90)]\n",
    "\n",
    "# Value to add to each tuple\n",
    "new_value = 100\n",
    "\n",
    "# Iterate through each tuple and add the new value to the last position\n",
    "for i in range(len(tpl)):\n",
    "    tpl[i] = tpl[i] + (new_value,)\n",
    "\n",
    "# Print the updated list of tuples\n",
    "print(tpl)\n"
   ]
  },
  {
   "cell_type": "code",
   "execution_count": null,
   "metadata": {},
   "outputs": [],
   "source": [
    "# CODE HERE\n",
    "tpl = [(10, 20, 40), (40, 50, 60), (70, 80, 90)]"
   ]
  },
  {
   "cell_type": "code",
   "execution_count": 10,
   "metadata": {},
   "outputs": [
    {
     "data": {
      "text/plain": [
       "[(10, 20, 40, 100), (40, 50, 60, 100), (70, 80, 90, 100)]"
      ]
     },
     "execution_count": 10,
     "metadata": {},
     "output_type": "execute_result"
    }
   ],
   "source": []
  },
  {
   "cell_type": "markdown",
   "metadata": {},
   "source": [
    "**`Question:` Write a Python program to replace last value of tuples in a list**\n",
    "- tpl = [(10, 20, 40), (40, 50, 60), (70, 80, 90)]\n",
    "- `hint- use for loop`"
   ]
  },
  {
   "cell_type": "code",
   "execution_count": 34,
   "metadata": {},
   "outputs": [
    {
     "name": "stdout",
     "output_type": "stream",
     "text": [
      "[(10, 20, 100), (40, 50, 100), (70, 80, 100)]\n"
     ]
    }
   ],
   "source": [
    "# Original list of tuples\n",
    "tpl = [(10, 20, 40), (40, 50, 60), (70, 80, 90)]\n",
    "\n",
    "# Value to replace the last element with\n",
    "new_value = 100\n",
    "\n",
    "# Iterate through each tuple and replace the last value\n",
    "for i in range(len(tpl)):\n",
    "    tpl[i] = tpl[i][:2] + (new_value,)\n",
    "\n",
    "# Print the updated list of tuples\n",
    "print(tpl)\n"
   ]
  },
  {
   "cell_type": "code",
   "execution_count": null,
   "metadata": {},
   "outputs": [],
   "source": [
    "# CODE HERE\n",
    "tpl = [(10, 20, 40), (40, 50, 60), (70, 80, 90)]"
   ]
  },
  {
   "cell_type": "code",
   "execution_count": 11,
   "metadata": {},
   "outputs": [
    {
     "data": {
      "text/plain": [
       "[(10, 20, 100), (40, 50, 100), (70, 80, 100)]"
      ]
     },
     "execution_count": 11,
     "metadata": {},
     "output_type": "execute_result"
    }
   ],
   "source": []
  },
  {
   "cell_type": "markdown",
   "metadata": {},
   "source": [
    "### `Question:` If the following string is given as input to the program:\n",
    "\n",
    "- '5 2 3 6 6 5'\n",
    "\n",
    "#### FInd the secong higest value from that"
   ]
  },
  {
   "cell_type": "code",
   "execution_count": 38,
   "metadata": {},
   "outputs": [
    {
     "name": "stdout",
     "output_type": "stream",
     "text": [
      "5 2 4 6 2 2\n",
      "Second highest is: 5\n"
     ]
    }
   ],
   "source": [
    "# Input string\n",
    "input_str = '5 2 4 6 2 2'\n",
    "\n",
    "# Split the string into a list of numbers\n",
    "numbers = [int(num) for num in input_str.split()]\n",
    "\n",
    "# Print the original list of numbers\n",
    "print( ' '.join(map(str, numbers)))\n",
    "\n",
    "# Remove duplicates and sort the list in descending order\n",
    "unique_sorted_numbers = sorted(set(numbers), reverse=True)\n",
    "\n",
    "# Check if there is a second highest value\n",
    "if len(unique_sorted_numbers) >= 2:\n",
    "    second_highest = unique_sorted_numbers[1]\n",
    "    print(f\"Second highest is: {second_highest}\")\n",
    "else:\n",
    "    print(\"There is no second highest value in the list.\")\n",
    "\n",
    "\n"
   ]
  },
  {
   "cell_type": "code",
   "execution_count": 2,
   "metadata": {},
   "outputs": [
    {
     "name": "stdout",
     "output_type": "stream",
     "text": [
      "5 2 4 6 2 2 \n",
      "second higest is : 5\n"
     ]
    }
   ],
   "source": [
    "# CODE HERE"
   ]
  },
  {
   "cell_type": "markdown",
   "metadata": {},
   "source": [
    "### `Question:` By using list comprehension, please write a program to print the list after removing the 0th,4th,5th numbers in [12,24,35,70,88,120,155]."
   ]
  },
  {
   "cell_type": "code",
   "execution_count": 39,
   "metadata": {},
   "outputs": [
    {
     "name": "stdout",
     "output_type": "stream",
     "text": [
      "[24, 35, 70, 155]\n"
     ]
    }
   ],
   "source": [
    "original_list = [12, 24, 35, 70, 88, 120, 155]\n",
    "\n",
    "# Use list comprehension to remove the specified indices\n",
    "filtered_list = [original_list[i] for i in range(len(original_list)) if i not in (0, 4, 5)]\n",
    "\n",
    "print(filtered_list)\n"
   ]
  },
  {
   "cell_type": "code",
   "execution_count": 3,
   "metadata": {},
   "outputs": [
    {
     "name": "stdout",
     "output_type": "stream",
     "text": [
      "[24, 35, 70, 155]\n"
     ]
    }
   ],
   "source": [
    "# CODE HERE"
   ]
  },
  {
   "cell_type": "markdown",
   "metadata": {},
   "source": [
    "### `Question:` With a given tuple (1,2,3,4,5,6,7,8,9,10), write a program to print the first half values in one line and the last half values in one line."
   ]
  },
  {
   "cell_type": "code",
   "execution_count": 41,
   "metadata": {},
   "outputs": [
    {
     "name": "stdout",
     "output_type": "stream",
     "text": [
      "(1, 2, 3, 4, 5)\n",
      "(6, 7, 8, 9, 10)\n"
     ]
    }
   ],
   "source": [
    "# Given tuple\n",
    "my_tuple = (1, 2, 3, 4, 5, 6, 7, 8, 9, 10)\n",
    "\n",
    "# Calculate the length of the tuple\n",
    "length = len(my_tuple)\n",
    "\n",
    "# Calculate the index to split the tuple into two halves\n",
    "split_index = length // 2\n",
    "\n",
    "# Create two separate tuples for the first and second halves\n",
    "first_half = my_tuple[:split_index]\n",
    "second_half = my_tuple[split_index:]\n",
    "\n",
    "# Print the two halves as separate tuples\n",
    "print(first_half)\n",
    "print(second_half)\n",
    "\n"
   ]
  },
  {
   "cell_type": "code",
   "execution_count": 1,
   "metadata": {},
   "outputs": [
    {
     "name": "stdout",
     "output_type": "stream",
     "text": [
      "(1, 2, 3, 4, 5) (6, 7, 8, 9, 10)\n"
     ]
    }
   ],
   "source": []
  },
  {
   "cell_type": "markdown",
   "metadata": {},
   "source": [
    "### `Question:` Write a program to generate and print another tuple whose values are even numbers in the given tuple (1,2,3,4,5,6,7,8,9,10)"
   ]
  },
  {
   "cell_type": "code",
   "execution_count": 42,
   "metadata": {},
   "outputs": [
    {
     "name": "stdout",
     "output_type": "stream",
     "text": [
      "(2, 4, 6, 8, 10)\n"
     ]
    }
   ],
   "source": [
    "# Given tuple\n",
    "original_tuple = (1, 2, 3, 4, 5, 6, 7, 8, 9, 10)\n",
    "\n",
    "# Use list comprehension to extract even numbers and convert them to a tuple\n",
    "even_numbers_tuple = tuple(x for x in original_tuple if x % 2 == 0)\n",
    "\n",
    "# Print the tuple of even numbers\n",
    "print(even_numbers_tuple)\n"
   ]
  },
  {
   "cell_type": "code",
   "execution_count": 2,
   "metadata": {},
   "outputs": [
    {
     "name": "stdout",
     "output_type": "stream",
     "text": [
      "(2, 4, 6, 8, 10)\n"
     ]
    }
   ],
   "source": []
  },
  {
   "cell_type": "code",
   "execution_count": null,
   "metadata": {},
   "outputs": [],
   "source": []
  },
  {
   "cell_type": "markdown",
   "metadata": {},
   "source": [
    "# `Descriptive Questions`"
   ]
  },
  {
   "cell_type": "markdown",
   "metadata": {},
   "source": [
    "### 1. Explain the difference between list and tuple?"
   ]
  },
  {
   "cell_type": "markdown",
   "metadata": {},
   "source": [
    "Lists and tuples are both used to store collections of items in Python, but they have some key differences:\n",
    "\n",
    "1. **Mutability**:\n",
    "   - **List**: Lists are mutable, which means you can change their content (add, remove, or modify elements) after they are created. You can use methods like `append()`, `insert()`, `pop()`, and `remove()` to modify a list.\n",
    "   - **Tuple**: Tuples are immutable, meaning once you create a tuple, you cannot change its elements. You cannot add, remove, or modify elements in a tuple. This immutability provides some safety and performance benefits.\n",
    "\n",
    "2. **Syntax**:\n",
    "   - **List**: Lists are defined using square brackets `[]`. For example: `my_list = [1, 2, 3]`.\n",
    "   - **Tuple**: Tuples are defined using parentheses `()`. For example: `my_tuple = (1, 2, 3)`.\n",
    "\n",
    "3. **Performance**:\n",
    "   - **List**: Lists, being mutable, can be less memory-efficient and slower for certain operations compared to tuples. This is because lists may need to reallocate memory when their size changes.\n",
    "   - **Tuple**: Tuples, being immutable, are more memory-efficient and can be faster for certain operations since their size is fixed.\n",
    "\n",
    "4. **Use Cases**:\n",
    "   - **List**: Lists are typically used when you need a collection of items that can change (e.g., a to-do list that you can add and remove items from).\n",
    "   - **Tuple**: Tuples are used when you want to create a collection of items that should not change (e.g., coordinates of a point, components of a date).\n",
    "\n",
    "5. **Iteration**:\n",
    "   - **List**: Lists can be iterated using a `for` loop or other iteration techniques.\n",
    "   - **Tuple**: Tuples can also be iterated using a `for` loop, just like lists.\n",
    "\n",
    "6. **Hashability**:\n",
    "   - **List**: Lists are not hashable, which means you cannot use them as keys in dictionaries or elements in sets because they can be changed.\n",
    "   - **Tuple**: Tuples are hashable, so you can use them as keys in dictionaries or elements in sets, provided that the elements inside the tuple are also hashable.\n",
    "\n",
    "In summary, the main difference between lists and tuples is that lists are mutable, while tuples are immutable. You choose between them based on whether you need a collection of items that can change or a collection of items that should remain constant."
   ]
  },
  {
   "cell_type": "code",
   "execution_count": null,
   "metadata": {},
   "outputs": [],
   "source": []
  },
  {
   "cell_type": "code",
   "execution_count": null,
   "metadata": {},
   "outputs": [],
   "source": [
    "# Solution"
   ]
  },
  {
   "cell_type": "markdown",
   "metadata": {},
   "source": [
    "### 2. Explain the difference between append() and extend() with examples"
   ]
  },
  {
   "cell_type": "markdown",
   "metadata": {},
   "source": [
    "`append()` and `extend()` are two methods in Python used to add elements to lists, but they have different behaviors:\n",
    "\n",
    "1. **`append()`**:\n",
    "   - `append()` is used to add a single element to the end of a list.\n",
    "   - The argument to `append()` is the element itself, not a sequence or iterable.\n",
    "\n",
    "   ```python\n",
    "   my_list = [1, 2, 3]\n",
    "   my_list.append(4)  # Adds the integer 4 to the end of the list\n",
    "   ```\n",
    "\n",
    "   After this code, `my_list` would be `[1, 2, 3, 4]`.\n",
    "\n",
    "2. **`extend()`**:\n",
    "   - `extend()` is used to add multiple elements to the end of a list by extending it with elements from an iterable (e.g., a list, tuple, string, etc.).\n",
    "   - It takes an iterable (e.g., a list, tuple, string) as an argument and adds all the elements from that iterable to the end of the list.\n",
    "\n",
    "   ```python\n",
    "   my_list = [1, 2, 3]\n",
    "   my_list.extend([4, 5, 6])  # Extends the list with elements from the iterable [4, 5, 6]\n",
    "   ```\n",
    "\n",
    "   After this code, `my_list` would be `[1, 2, 3, 4, 5, 6]`.\n",
    "\n",
    "In summary:\n",
    "\n",
    "- `append()` adds a single element to the end of the list.\n",
    "- `extend()` adds multiple elements to the end of the list by extending it with elements from an iterable.\n",
    "\n"
   ]
  },
  {
   "cell_type": "code",
   "execution_count": null,
   "metadata": {},
   "outputs": [],
   "source": [
    "# Solution"
   ]
  },
  {
   "cell_type": "markdown",
   "metadata": {},
   "source": [
    "### 3. Explain the difference between pop() and remove() with examples"
   ]
  },
  {
   "cell_type": "markdown",
   "metadata": {},
   "source": [
    "`pop()` and `remove()` are two different methods used for modifying lists in Python. They have distinct purposes and behaviors:\n",
    "\n",
    "1. **`pop()`**:\n",
    "   - `pop()` is used to remove and return the element at a specific index from a list.\n",
    "   - It takes an optional index as an argument, and if the index is not provided, it removes and returns the last element by default.\n",
    "   - `pop()` is commonly used when you want to remove an element from a list and also use or store the removed element.\n",
    "\n",
    "   ```python\n",
    "   my_list = [1, 2, 3, 4, 5]\n",
    "   removed_element = my_list.pop(2)  # Removes and returns the element at index 2 (which is 3)\n",
    "   ```\n",
    "\n",
    "   After this code, `my_list` would be `[1, 2, 4, 5]`, and `removed_element` would be `3`.\n",
    "\n",
    "2. **`remove()`**:\n",
    "   - `remove()` is used to remove the first occurrence of a specified element from a list.\n",
    "   - It takes the element you want to remove as an argument.\n",
    "   - `remove()` is commonly used when you know the value you want to remove but not its index.\n",
    "\n",
    "   ```python\n",
    "   my_list = [1, 2, 3, 4, 5]\n",
    "   my_list.remove(3)  # Removes the first occurrence of the value 3\n",
    "   ```\n",
    "\n",
    "   After this code, `my_list` would be `[1, 2, 4, 5]`.\n",
    "\n",
    "In summary:\n",
    "\n",
    "- `pop()` removes and returns an element based on its index and is often used when you need to retrieve and use the removed element.\n",
    "- `remove()` removes the first occurrence of a specified element based on its value and is used when you know the value you want to remove but not its index.\n",
    "\n"
   ]
  },
  {
   "cell_type": "code",
   "execution_count": null,
   "metadata": {},
   "outputs": [],
   "source": [
    "# Solution"
   ]
  },
  {
   "cell_type": "code",
   "execution_count": null,
   "metadata": {},
   "outputs": [],
   "source": []
  }
 ],
 "metadata": {
  "kernelspec": {
   "display_name": "Python 3 (ipykernel)",
   "language": "python",
   "name": "python3"
  },
  "language_info": {
   "codemirror_mode": {
    "name": "ipython",
    "version": 3
   },
   "file_extension": ".py",
   "mimetype": "text/x-python",
   "name": "python",
   "nbconvert_exporter": "python",
   "pygments_lexer": "ipython3",
   "version": "3.10.0"
  }
 },
 "nbformat": 4,
 "nbformat_minor": 4
}
