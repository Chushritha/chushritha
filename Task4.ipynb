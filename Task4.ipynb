{
 "cells": [
  {
   "cell_type": "code",
   "execution_count": 30,
   "id": "699f19eb",
   "metadata": {},
   "outputs": [
    {
     "name": "stdout",
     "output_type": "stream",
     "text": [
      "revolves\n",
      "sun\n"
     ]
    }
   ],
   "source": [
    "## 1.  create Variable to store the string \"Earth revolves around the sun\"\n",
    "    #a. Print \"revolves\" using slice operator\n",
    "    #b. Print \"sun\" using negative index \n",
    "    \n",
    "A =  \"Earth revolves around the sun\"\n",
    "print(A[6:14]) # Using slice Operator.\n",
    "print(A[-3:])  #Using negative index.\n",
    "        \n",
    "    "
   ]
  },
  {
   "cell_type": "code",
   "execution_count": 38,
   "id": "4bffdadc",
   "metadata": {},
   "outputs": [
    {
     "name": "stdout",
     "output_type": "stream",
     "text": [
      "I eat 2 Vegtables and 3 fruits daily\n"
     ]
    }
   ],
   "source": [
    " '''2. Create two variables to store how many fruits and vegetables you eat in a day.\n",
    "Now Print \"I eat x veggies and y fruits daily\" where x and y presents vegtables and fruits that you eat everyday'''\n",
    "\n",
    "fruits = 3\n",
    "Vegtables = 2 \n",
    "\n",
    "print(\"I eat\", Vegtables, \"Vegtables and\", fruits, \"fruits daily\" )"
   ]
  },
  {
   "cell_type": "code",
   "execution_count": 42,
   "id": "0a41968c",
   "metadata": {},
   "outputs": [
    {
     "name": "stdout",
     "output_type": "stream",
     "text": [
      "street: Jntu , city: Hyderabad , country: India\n"
     ]
    }
   ],
   "source": [
    "### 3. Create 3 variables to store street, city and country, now create address variable to store entire address. \n",
    "### Print the entire address in a single sentence. \n",
    "\n",
    "street = 'Jntu'\n",
    "city = 'Hyderabad'\n",
    "country = 'India'\n",
    "address = print('street:',street,', city:',city,', country:',country)"
   ]
  },
  {
   "cell_type": "code",
   "execution_count": 46,
   "id": "19cf5f11",
   "metadata": {},
   "outputs": [
    {
     "name": "stdout",
     "output_type": "stream",
     "text": [
      "the first letter, last letter, middle letter using the posittive indexing as well as negative indexing\n",
      "First letter positive indexing I\n",
      "Last letter positive indexing s\n",
      "Middle letter positive indexing R\n",
      "negative indexing s\n",
      "negative indexing I\n",
      "negative indexing e\n",
      "Innom\n"
     ]
    }
   ],
   "source": [
    "A=\"Innomatics Research labs\" \n",
    "print ('the first letter, last letter, middle letter using the posittive indexing as well as negative indexing')\n",
    "A=\"Innomatics Research labs\"\n",
    "\n",
    "#positive indexing\n",
    "\n",
    "print('First letter positive indexing',A[0]) #first letter\n",
    "print('Last letter positive indexing',A[23]) #last letter\n",
    "print('Middle letter positive indexing',A[11]) #middle letter\n",
    "\n",
    "#negative indexing\n",
    "\n",
    "print('negative indexing', A[-1])\n",
    "print('negative indexing', A[-24])\n",
    "print('negative indexing', A[-12])\n",
    "\n",
    "#Work on A[0:5] and check what does s[5:0] gives you.\n",
    "print(A[0:5])"
   ]
  },
  {
   "cell_type": "code",
   "execution_count": null,
   "id": "4d49e863",
   "metadata": {},
   "outputs": [],
   "source": []
  }
 ],
 "metadata": {
  "kernelspec": {
   "display_name": "Python 3 (ipykernel)",
   "language": "python",
   "name": "python3"
  },
  "language_info": {
   "codemirror_mode": {
    "name": "ipython",
    "version": 3
   },
   "file_extension": ".py",
   "mimetype": "text/x-python",
   "name": "python",
   "nbconvert_exporter": "python",
   "pygments_lexer": "ipython3",
   "version": "3.8.18"
  }
 },
 "nbformat": 4,
 "nbformat_minor": 5
}
