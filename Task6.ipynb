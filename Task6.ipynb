{
 "cells": [
  {
   "cell_type": "code",
   "execution_count": 3,
   "id": "00844793",
   "metadata": {},
   "outputs": [
    {
     "data": {
      "text/plain": [
       "\"$python is fun, python is easy, but python is tough when you don't practice it revise it@\""
      ]
     },
     "execution_count": 3,
     "metadata": {},
     "output_type": "execute_result"
    }
   ],
   "source": [
    "A = \"   $python is fun, python is easy, but python is tough when you don't practice it revise it@      \"\n",
    "#1.extract only the text from the above string\n",
    "A.strip()"
   ]
  },
  {
   "cell_type": "code",
   "execution_count": 9,
   "id": "cf023801",
   "metadata": {},
   "outputs": [
    {
     "data": {
      "text/plain": [
       "\"$python is fun, python is easy, but python is tough when you don't practice it revise it@\""
      ]
     },
     "execution_count": 9,
     "metadata": {},
     "output_type": "execute_result"
    }
   ],
   "source": [
    "B=A.strip()\n",
    "B"
   ]
  },
  {
   "cell_type": "code",
   "execution_count": 10,
   "id": "959fed4a",
   "metadata": {},
   "outputs": [
    {
     "data": {
      "text/plain": [
       "\"python is fun, python is easy, but python is tough when you don't practice it revise it\""
      ]
     },
     "execution_count": 10,
     "metadata": {},
     "output_type": "execute_result"
    }
   ],
   "source": [
    "C=A2.strip('$,@')\n",
    "C"
   ]
  },
  {
   "cell_type": "code",
   "execution_count": 11,
   "id": "e5c1d89f",
   "metadata": {},
   "outputs": [
    {
     "data": {
      "text/plain": [
       "['$python is fun',\n",
       " ' python is easy',\n",
       " \" but python is tough when you don't practice it revise it@\"]"
      ]
     },
     "execution_count": 11,
     "metadata": {},
     "output_type": "execute_result"
    }
   ],
   "source": [
    "#2.split the string using commas(,)\n",
    "A.split(',')"
   ]
  },
  {
   "cell_type": "code",
   "execution_count": 23,
   "id": "70b31ef6",
   "metadata": {},
   "outputs": [
    {
     "name": "stdout",
     "output_type": "stream",
     "text": [
      "[\"A.count('python') =\", 3]\n",
      "[\"A.count('is')=\", 4]\n"
     ]
    }
   ],
   "source": [
    "#3.count the frequency of \"python\"\n",
    "A.count('python')\n",
    "print([\"A.count('python') =\",A.count('python')])\n",
    "\n",
    "#4.count the frequency of \"is\"\n",
    "A.count('is')\n",
    "print([\"A.count('is')=\", A.count('is')])"
   ]
  },
  {
   "cell_type": "code",
   "execution_count": 28,
   "id": "205ba6b0",
   "metadata": {},
   "outputs": [
    {
     "name": "stdout",
     "output_type": "stream",
     "text": [
      "sum is 7\n",
      "difference is -1\n",
      "multiplication is 12\n",
      "division is 0.75\n",
      "floor is 0\n"
     ]
    }
   ],
   "source": [
    "#5.check the +,-,*,/,// of 3 and 4 results\n",
    "A = 3\n",
    "B = 4\n",
    "sum = A + B\n",
    "print(\"sum is\",sum)\n",
    "\n",
    "difference = A - B\n",
    "print(\"difference is\",difference)\n",
    "\n",
    "multiplication = A * B\n",
    "print(\"multiplication is\",multiplication)\n",
    "\n",
    "division = A / B\n",
    "print(\"division is\",division)\n",
    "\n",
    "floor = A // B\n",
    "print(\"floor is\",floor)"
   ]
  },
  {
   "cell_type": "code",
   "execution_count": 29,
   "id": "99a0a823",
   "metadata": {},
   "outputs": [
    {
     "data": {
      "text/plain": [
       "\"   $python is fun, python is easy, but python is tough if and only if you don't practice it revise it@      \""
      ]
     },
     "execution_count": 29,
     "metadata": {},
     "output_type": "execute_result"
    }
   ],
   "source": [
    "#6.replace \"when \" with \"if and only if\"\n",
    "A = \"   $python is fun, python is easy, but python is tough when you don't practice it revise it@      \"\n",
    "A.replace('when','if and only if')"
   ]
  },
  {
   "cell_type": "code",
   "execution_count": 30,
   "id": "2bffc11f",
   "metadata": {},
   "outputs": [
    {
     "name": "stdout",
     "output_type": "stream",
     "text": [
      "number of characters in the original string:  98\n",
      "number of characters when you replaced the python with data science:  111\n",
      "difference between s and p1 is: 13\n"
     ]
    }
   ],
   "source": [
    "#7.find the difference in the number of characters in original string and number of characters when you replaced the \"python \" with \"data science\".\n",
    "A = \"   $python is fun, python is easy, but python is tough when you don't practice it revise it@      \"\n",
    "print(\"number of characters in the original string: \",len(A))\n",
    "\n",
    "p1 = \"   $python is fun, python is easy, but  data science python is tough when you don't practice it revise it@     \" \n",
    "print(\"number of characters when you replaced the python with data science: \",len(p1))\n",
    "print(\"difference between s and p1 is:\",len(p1)-len(A))"
   ]
  },
  {
   "cell_type": "code",
   "execution_count": 33,
   "id": "bfebc3ce",
   "metadata": {},
   "outputs": [
    {
     "name": "stdout",
     "output_type": "stream",
     "text": [
      "python\n",
      "data science\n",
      "   $python is fun, python is easy, but  data science python is tough when you don't practice it revise it@      \n"
     ]
    }
   ],
   "source": [
    "#8.replace only the last occurring python with data science\n",
    "A = \"   $python is fun, python is easy, but python is tough when you don't practice it revise it@      \"\n",
    "x1 = A[39:45]\n",
    "print(x1)\n",
    "x2 = x1.replace('python','data science')\n",
    "print(x2)\n",
    "print(\"   $python is fun, python is easy, but \",x2, \"python is tough when you don't practice it revise it@      \")"
   ]
  },
  {
   "cell_type": "code",
   "execution_count": null,
   "id": "9a28ceda",
   "metadata": {},
   "outputs": [],
   "source": []
  }
 ],
 "metadata": {
  "kernelspec": {
   "display_name": "Python 3 (ipykernel)",
   "language": "python",
   "name": "python3"
  },
  "language_info": {
   "codemirror_mode": {
    "name": "ipython",
    "version": 3
   },
   "file_extension": ".py",
   "mimetype": "text/x-python",
   "name": "python",
   "nbconvert_exporter": "python",
   "pygments_lexer": "ipython3",
   "version": "3.8.18"
  }
 },
 "nbformat": 4,
 "nbformat_minor": 5
}
